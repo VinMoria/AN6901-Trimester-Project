{
 "cells": [
  {
   "cell_type": "code",
   "execution_count": 4,
   "metadata": {},
   "outputs": [
    {
     "name": "stdout",
     "output_type": "stream",
     "text": [
      "      Notes State of Residence State of Residence Code  Year Year Code  \\\n",
      "5401    NaN            Wyoming                      56  2020      2020   \n",
      "5402    NaN            Wyoming                      56  2020      2020   \n",
      "5403    NaN            Wyoming                      56  2020      2020   \n",
      "5404    NaN            Wyoming                      56  2020      2020   \n",
      "5405    NaN            Wyoming                      56  2020      2020   \n",
      "\n",
      "         Month Month Code Infant Birth Weight 12 Infant Birth Weight 12 Code  \\\n",
      "5401  December         12      2000 - 2499 grams                          05   \n",
      "5402  December         12      2500 - 2999 grams                          06   \n",
      "5403  December         12      3000 - 3499 grams                          07   \n",
      "5404  December         12      3500 - 3999 grams                          08   \n",
      "5405  December         12      4000 - 4499 grams                          09   \n",
      "\n",
      "      Births  \n",
      "5401      20  \n",
      "5402     115  \n",
      "5403     222  \n",
      "5404     113  \n",
      "5405      23  \n"
     ]
    }
   ],
   "source": [
    "import pandas as pd\n",
    "\n",
    "# 指定列名和需要转换为字符串的列\n",
    "columns_to_str = [\"State of Residence Code\", \"Year Code\", \"Month Code\", \"Infant Birth Weight 12 Code\"]\n",
    "\n",
    "# 读取文件并强制指定列为字符串\n",
    "file_path = 'USA2020.txt'  # 替换为实际的文件路径\n",
    "df = pd.read_csv(file_path, sep='\\t', dtype={col: str for col in columns_to_str}, header=0)\n",
    "\n",
    "# 显示前几行数据确认读取结果\n",
    "print(df.tail())\n"
   ]
  }
 ],
 "metadata": {
  "kernelspec": {
   "display_name": "Python 3",
   "language": "python",
   "name": "python3"
  },
  "language_info": {
   "codemirror_mode": {
    "name": "ipython",
    "version": 3
   },
   "file_extension": ".py",
   "mimetype": "text/x-python",
   "name": "python",
   "nbconvert_exporter": "python",
   "pygments_lexer": "ipython3",
   "version": "3.13.0"
  }
 },
 "nbformat": 4,
 "nbformat_minor": 2
}
