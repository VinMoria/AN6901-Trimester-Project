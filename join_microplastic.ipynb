{
 "cells": [
  {
   "cell_type": "code",
   "execution_count": 39,
   "metadata": {},
   "outputs": [],
   "source": [
    "import pandas as pd\n",
    "from geopy.distance import geodesic\n",
    "DISTANCE_THRESHOLD = 3000"
   ]
  },
  {
   "cell_type": "code",
   "execution_count": 44,
   "metadata": {},
   "outputs": [
    {
     "name": "stderr",
     "output_type": "stream",
     "text": [
      "C:\\Users\\cyo01\\AppData\\Local\\Temp\\ipykernel_40300\\2584152911.py:5: UserWarning: Could not infer format, so each element will be parsed individually, falling back to `dateutil`. To ensure parsing is consistent and as-expected, please specify a format.\n",
      "  df_mp[\"Date\"] = pd.to_datetime(df_mp[\"Date\"])\n"
     ]
    },
    {
     "data": {
      "text/html": [
       "<div>\n",
       "<style scoped>\n",
       "    .dataframe tbody tr th:only-of-type {\n",
       "        vertical-align: middle;\n",
       "    }\n",
       "\n",
       "    .dataframe tbody tr th {\n",
       "        vertical-align: top;\n",
       "    }\n",
       "\n",
       "    .dataframe thead th {\n",
       "        text-align: right;\n",
       "    }\n",
       "</style>\n",
       "<table border=\"1\" class=\"dataframe\">\n",
       "  <thead>\n",
       "    <tr style=\"text-align: right;\">\n",
       "      <th></th>\n",
       "      <th>Measurement</th>\n",
       "      <th>latitude</th>\n",
       "      <th>longitude</th>\n",
       "      <th>mp_year</th>\n",
       "      <th>mp_month</th>\n",
       "    </tr>\n",
       "  </thead>\n",
       "  <tbody>\n",
       "    <tr>\n",
       "      <th>count</th>\n",
       "      <td>16031.000000</td>\n",
       "      <td>16031.000000</td>\n",
       "      <td>16031.000000</td>\n",
       "      <td>16031.000000</td>\n",
       "      <td>16031.000000</td>\n",
       "    </tr>\n",
       "    <tr>\n",
       "      <th>mean</th>\n",
       "      <td>394.275310</td>\n",
       "      <td>24.621628</td>\n",
       "      <td>-59.791520</td>\n",
       "      <td>2007.238475</td>\n",
       "      <td>7.101054</td>\n",
       "    </tr>\n",
       "    <tr>\n",
       "      <th>std</th>\n",
       "      <td>8396.052594</td>\n",
       "      <td>20.663678</td>\n",
       "      <td>75.521488</td>\n",
       "      <td>9.427516</td>\n",
       "      <td>3.424548</td>\n",
       "    </tr>\n",
       "    <tr>\n",
       "      <th>min</th>\n",
       "      <td>0.000000</td>\n",
       "      <td>-71.699040</td>\n",
       "      <td>-179.994200</td>\n",
       "      <td>1972.000000</td>\n",
       "      <td>1.000000</td>\n",
       "    </tr>\n",
       "    <tr>\n",
       "      <th>25%</th>\n",
       "      <td>0.000000</td>\n",
       "      <td>17.057850</td>\n",
       "      <td>-110.174193</td>\n",
       "      <td>2000.000000</td>\n",
       "      <td>4.000000</td>\n",
       "    </tr>\n",
       "    <tr>\n",
       "      <th>50%</th>\n",
       "      <td>0.010000</td>\n",
       "      <td>25.940000</td>\n",
       "      <td>-69.380000</td>\n",
       "      <td>2009.000000</td>\n",
       "      <td>7.000000</td>\n",
       "    </tr>\n",
       "    <tr>\n",
       "      <th>75%</th>\n",
       "      <td>0.150748</td>\n",
       "      <td>36.459367</td>\n",
       "      <td>-31.302500</td>\n",
       "      <td>2015.000000</td>\n",
       "      <td>10.000000</td>\n",
       "    </tr>\n",
       "    <tr>\n",
       "      <th>max</th>\n",
       "      <td>800000.000000</td>\n",
       "      <td>89.761400</td>\n",
       "      <td>179.854333</td>\n",
       "      <td>2022.000000</td>\n",
       "      <td>12.000000</td>\n",
       "    </tr>\n",
       "  </tbody>\n",
       "</table>\n",
       "</div>"
      ],
      "text/plain": [
       "         Measurement      latitude     longitude       mp_year      mp_month\n",
       "count   16031.000000  16031.000000  16031.000000  16031.000000  16031.000000\n",
       "mean      394.275310     24.621628    -59.791520   2007.238475      7.101054\n",
       "std      8396.052594     20.663678     75.521488      9.427516      3.424548\n",
       "min         0.000000    -71.699040   -179.994200   1972.000000      1.000000\n",
       "25%         0.000000     17.057850   -110.174193   2000.000000      4.000000\n",
       "50%         0.010000     25.940000    -69.380000   2009.000000      7.000000\n",
       "75%         0.150748     36.459367    -31.302500   2015.000000     10.000000\n",
       "max    800000.000000     89.761400    179.854333   2022.000000     12.000000"
      ]
     },
     "execution_count": 44,
     "metadata": {},
     "output_type": "execute_result"
    }
   ],
   "source": [
    "# 只保留一种单位的数据\n",
    "df_mp = pd.read_csv(\"USA/MicroPlastic.csv\")\n",
    "df_mp = df_mp[df_mp[\"Unit\"] == \"pieces/m3\"]\n",
    "df_mp.drop(columns=[\"Unit\"], inplace=True)\n",
    "df_mp[\"Date\"] = pd.to_datetime(df_mp[\"Date\"])\n",
    "df_mp['Year'] = df_mp['Date'].dt.year\n",
    "df_mp['Month'] = df_mp['Date'].dt.month\n",
    "df_mp.drop(columns=[\"Date\"], inplace=True)\n",
    "df_mp = df_mp.rename(columns={\n",
    "\t\"Latitude\":\"latitude\",\n",
    "\t\"Longitude\":\"longitude\",\n",
    "\t\"Year\":\"mp_year\",\n",
    "\t\"Month\":\"mp_month\"\n",
    "})\n",
    "df_mp.describe()"
   ]
  },
  {
   "cell_type": "code",
   "execution_count": 41,
   "metadata": {},
   "outputs": [],
   "source": [
    "def is_within_period(row1, row2, period):\n",
    "\t# row1 是出生数据, row2是微塑料数据\n",
    "\t# period的取值为 0 ~ 4. 0对应怀孕前三月，4对应怀孕后三月\n",
    "\tyear_diff = row1[\"birth_year\"] - row2[\"mp_year\"]\n",
    "\tmonth_diff = row1[\"birth_month\"] - row2[\"mp_month\"]\n",
    "\tdiff = year_diff * 12 + month_diff\n",
    "\tleft = 9 - 3 * period\n",
    "\tright = 11 - 3 * period\n",
    "\treturn left <= diff <= right"
   ]
  },
  {
   "cell_type": "code",
   "execution_count": 42,
   "metadata": {},
   "outputs": [],
   "source": [
    "def is_within_distance(row1, row2, max_distance):\n",
    "\tpoint1 = (row1[\"latitude\"], row1[\"longitude\"])\n",
    "\tpoint2 = (row2[\"latitude\"], row2[\"longitude\"])\n",
    "\treturn geodesic(point1, point2).km <= max_distance"
   ]
  },
  {
   "cell_type": "code",
   "execution_count": null,
   "metadata": {},
   "outputs": [],
   "source": [
    "df1 = pd.read_csv(\"USA_LBW.csv\")\n",
    "df2 = df_mp\n",
    "\n",
    "def myCondition(row, row_in_df1, period):\n",
    "\treturn is_within_distance(row_in_df1, row, DISTANCE_THRESHOLD) and is_within_period(row_in_df1, row, period)\n",
    "\n",
    "\n",
    "# 计算函数\n",
    "def myJoin(row, df2, period):\n",
    "\trow_in_df1 = row\n",
    "\tfiltered_df2 = df2[df2.apply(myCondition, axis=1, args=(row_in_df1, period))]\n",
    "\tresult = filtered_df2[\"Measurement\"].avg()\n",
    "\treturn result\n",
    "\n",
    "# 在 df1 中添加新列，通过 apply 来应用计算函数\n",
    "for i in range(5):\n",
    "\tdf1[f'mp{i+1}'] = df1.apply(lambda row: myJoin(row, df2, i), axis=1)\n",
    "\n",
    "# 打印结果\n",
    "print(df1)\n"
   ]
  }
 ],
 "metadata": {
  "kernelspec": {
   "display_name": "Python 3",
   "language": "python",
   "name": "python3"
  },
  "language_info": {
   "codemirror_mode": {
    "name": "ipython",
    "version": 3
   },
   "file_extension": ".py",
   "mimetype": "text/x-python",
   "name": "python",
   "nbconvert_exporter": "python",
   "pygments_lexer": "ipython3",
   "version": "3.13.0"
  }
 },
 "nbformat": 4,
 "nbformat_minor": 2
}
